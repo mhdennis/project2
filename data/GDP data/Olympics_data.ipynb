{
 "cells": [
  {
   "cell_type": "code",
<<<<<<< HEAD
   "execution_count": 1,
=======
   "execution_count": 27,
>>>>>>> Safaa_branch
   "metadata": {
    "collapsed": true
   },
   "outputs": [],
   "source": [
    "# Set Dependencies\n",
    "import pandas as pd\t\n",
    "import matplotlib.pyplot as plt"
   ]
  },
  {
   "cell_type": "code",
   "execution_count": 2,
   "metadata": {
    "collapsed": true
   },
   "outputs": [],
   "source": [
    "summer_years=[1996, 2000, 2004, 2008, 2012, 2016]\n",
    "winter_years=[1994, 1998, 2002, 2006, 2010, 2014, 2018]\n",
    "season=['Summer', 'Winter']"
   ]
  },
  {
   "cell_type": "code",
   "execution_count": 3,
   "metadata": {
    "collapsed": true
   },
   "outputs": [],
   "source": [
    "# Primative code! can we create a loop to generate? \n",
    "url_summer_1996='https://en.wikipedia.org/wiki/1996_Summer_Olympics_medal_table'\n",
    "url_summer_2000='https://en.wikipedia.org/wiki/2000_Summer_Olympics_medal_table'\n",
    "url_summer_2004='https://en.wikipedia.org/wiki/2004_Summer_Olympics_medal_table'\n",
    "url_summer_2008='https://en.wikipedia.org/wiki/2008_Summer_Olympics_medal_table'\n",
    "url_summer_2012='https://en.wikipedia.org/wiki/2012_Summer_Olympics_medal_table'\n",
    "url_summer_2016='https://en.wikipedia.org/wiki/2016_Summer_Olympics_medal_table'\n",
    "\n",
    "url_winter_1994='https://en.wikipedia.org/wiki/1994_Winter_Olympics_medal_table'\n",
    "url_winter_1998='https://en.wikipedia.org/wiki/1998_Winter_Olympics_medal_table'\n",
    "url_winter_2002='https://en.wikipedia.org/wiki/2002_Winter_Olympics_medal_table'\n",
    "url_winter_2006='https://en.wikipedia.org/wiki/2006_Winter_Olympics_medal_table'\n",
    "url_winter_2010='https://en.wikipedia.org/wiki/2010_Winter_Olympics_medal_table'\n",
    "url_winter_2014='https://en.wikipedia.org/wiki/2014_Winter_Olympics_medal_table'\n",
    "url_winter_2018='https://en.wikipedia.org/wiki/2018_Winter_Olympics_medal_table'"
   ]
  },
  {
   "cell_type": "code",
   "execution_count": 4,
   "metadata": {
    "collapsed": true
   },
   "outputs": [],
   "source": [
    "#Extract Olympic tables from wikipedia\n",
    "df_summer_1996=pd.read_html(url_summer_1996)\n",
    "df_summer_2000=pd.read_html(url_summer_2000)\n",
    "df_summer_2004=pd.read_html(url_summer_2004)\n",
    "df_summer_2008=pd.read_html(url_summer_2008)\n",
    "df_summer_2012=pd.read_html(url_summer_2012)\n",
    "df_summer_2016=pd.read_html(url_summer_2016)\n",
    "\n",
    "df_winter_1994=pd.read_html(url_winter_1994)\n",
    "df_winter_1998=pd.read_html(url_winter_1998)\n",
    "df_winter_2002=pd.read_html(url_winter_2002)\n",
    "df_winter_2006=pd.read_html(url_winter_2006)\n",
    "df_winter_2010=pd.read_html(url_winter_2010)\n",
    "df_winter_2014=pd.read_html(url_winter_2014)\n",
    "df_winter_2018=pd.read_html(url_winter_2018)\n"
   ]
  },
  {
   "cell_type": "code",
   "execution_count": 5,
   "metadata": {
    "collapsed": true
   },
   "outputs": [],
   "source": [
    "#keeping only the top 10 ountries\n",
    "\n",
    "df_summer_1996= df_summer_1996[1]\n",
    "new_header=df_summer_1996.iloc[0]\n",
    "df_summer_1996=df_summer_1996[1:]\n",
    "df_summer_1996.columns=new_header\n",
    "df_summer_1996['Year']= 1996\n",
    "df_summer_1996['Season']='Summer'\n",
    "df_summer_1996=df_summer_1996.head(10)\n",
    "\n",
    "df_summer_2000= df_summer_2000[1]\n",
    "new_header=df_summer_2000.iloc[0]\n",
    "df_summer_2000=df_summer_2000[1:]\n",
    "df_summer_2000.columns=new_header\n",
    "df_summer_2000['Year']= 2000\n",
    "df_summer_2000['Season']='Summer'\n",
    "df_summer_2000= df_summer_2000.head(10)\n",
    "\n",
    "df_summer_2004= df_summer_2004[1]\n",
    "new_header=df_summer_2004.iloc[0]\n",
    "df_summer_2004=df_summer_2004[1:]\n",
    "df_summer_2004.columns=new_header\n",
    "df_summer_2004['Year']= 2004\n",
    "df_summer_2004['Season']='Summer'\n",
    "df_summer_2004=df_summer_2004.head(10)\n",
    "\n",
    "df_summer_2008= df_summer_2008[1]\n",
    "new_header=df_summer_2008.iloc[0]\n",
    "df_summer_2008=df_summer_2008[1:]\n",
    "df_summer_2008.columns=new_header\n",
    "df_summer_2008['Year']= 2008\n",
    "df_summer_2008['Season']='Summer'\n",
    "df_summer_2008=df_summer_2008.head(10)\n",
    "\n",
    "df_summer_2012= df_summer_2012[1]\n",
    "new_header=df_summer_2012.iloc[0]\n",
    "df_summer_2012=df_summer_2012[1:]\n",
    "df_summer_2012.columns=new_header\n",
    "df_summer_2012['Year']= 2012\n",
    "df_summer_2012['Season']='Summer'\n",
    "df_summer_2012= df_summer_2012.head(10)\n",
    "\n",
    "df_summer_2016= df_summer_2016[1]\n",
    "new_header=df_summer_2016.iloc[0]\n",
    "df_summer_2016=df_summer_2016[1:]\n",
    "df_summer_2016.columns=new_header\n",
    "df_summer_2016['Year']= 2016\n",
    "df_summer_2016['Season']='Summer'\n",
    "df_summer_2016= df_summer_2016.head(10)\n",
    "\n",
    "\n",
    "df_winter_1994= df_winter_1994[1]\n",
    "new_header=df_winter_1994.iloc[0]\n",
    "df_winter_1994=df_winter_1994[1:]\n",
    "df_winter_1994.columns=new_header\n",
    "df_winter_1994['Year']= 1994\n",
    "df_winter_1994['Season']='Winter'\n",
    "df_winter_1994=df_winter_1994.head(10)\n",
    "\n",
    "# Table location was different, needed to read it seperately\n",
    "df_winter_1998= df_winter_1998[0]\n",
    "new_header=df_winter_1998.iloc[0]\n",
    "df_winter_1998=df_winter_1998[1:]\n",
    "df_winter_1998.columns=new_header\n",
    "df_winter_1998['Year']= 1998\n",
    "df_winter_1998['Season']='Winter'\n",
    "df_winter_1998= df_winter_1998.head(10)\n",
    "\n",
    "df_winter_2002= df_winter_2002[1]\n",
    "new_header=df_winter_2002.iloc[0]\n",
    "df_winter_2002=df_winter_2002[1:]\n",
    "df_winter_2002.columns=new_header\n",
    "df_winter_2002['Year']= 2002\n",
    "df_winter_2002['Season']='Winter'\n",
    "df_winter_2002= df_winter_2002.head(10)\n",
    "\n",
    "df_winter_2006= df_winter_2006[1]\n",
    "new_header=df_winter_2006.iloc[0]\n",
    "df_winter_2006=df_winter_2006[1:]\n",
    "df_winter_2006.columns=new_header\n",
    "df_winter_2006['Year']= 2006\n",
    "df_winter_2006['Season']='Winter'\n",
    "df_winter_2006= df_winter_2006.head(10)\n",
    "\n",
    "#needed to correct shift in record/rank #8\n",
    "df_winter_2010= df_winter_2010[1]\n",
    "new_header=df_winter_2010.iloc[0]\n",
    "df_winter_2010=df_winter_2010[1:]\n",
    "df_winter_2010.columns=new_header\n",
    "df_winter_2010['Year']= 2010\n",
    "df_winter_2010['Season']='Winter'\n",
    "df_winter_2010= df_winter_2010.head(10)\n",
    "df_winter_2010.iloc[7, df_winter_2010.columns.get_loc('Total')] = df_winter_2010.iloc[7, df_winter_2010.columns.get_loc('Bronze')]\n",
    "df_winter_2010.iloc[7, df_winter_2010.columns.get_loc('Bronze')] = df_winter_2010.iloc[7, df_winter_2010.columns.get_loc('Silver')]\n",
    "df_winter_2010.iloc[7, df_winter_2010.columns.get_loc('Silver')] = df_winter_2010.iloc[7, df_winter_2010.columns.get_loc('Gold')]\n",
    "df_winter_2010.iloc[7, df_winter_2010.columns.get_loc('Gold')] = df_winter_2010.iloc[7, df_winter_2010.columns.get_loc('NOC')]\n",
    "df_winter_2010.iloc[7, df_winter_2010.columns.get_loc('NOC')] = df_winter_2010.iloc[7, df_winter_2010.columns.get_loc('Rank')]\n",
    "df_winter_2010.iloc[7, df_winter_2010.columns.get_loc('Rank')] = 8\n",
    "\n",
    "df_winter_2014= df_winter_2014[1]\n",
    "new_header=df_winter_2014.iloc[0]\n",
    "df_winter_2014=df_winter_2014[1:]\n",
    "df_winter_2014.columns=new_header\n",
    "df_winter_2014['Year']= 2014\n",
    "df_winter_2014['Season']='Winter'\n",
    "df_winter_2014= df_winter_2014.head(10)\n",
    "\n",
    "df_winter_2018= df_winter_2018[1]\n",
    "new_header=df_winter_2018.iloc[0]\n",
    "df_winter_2018=df_winter_2018[1:]\n",
    "df_winter_2018.columns=new_header\n",
    "df_winter_2018['Year']= 2018\n",
    "df_winter_2018['Season']='Winter'\n",
    "df_winter_2018= df_winter_2018.head(10)"
   ]
  },
  {
   "cell_type": "code",
   "execution_count": 6,
   "metadata": {},
   "outputs": [
    {
     "data": {
      "text/html": [
       "<div>\n",
       "<style>\n",
       "    .dataframe thead tr:only-child th {\n",
       "        text-align: right;\n",
       "    }\n",
       "\n",
       "    .dataframe thead th {\n",
       "        text-align: left;\n",
       "    }\n",
       "\n",
       "    .dataframe tbody tr th {\n",
       "        vertical-align: top;\n",
       "    }\n",
       "</style>\n",
       "<table border=\"1\" class=\"dataframe\">\n",
       "  <thead>\n",
       "    <tr style=\"text-align: right;\">\n",
       "      <th></th>\n",
       "      <th>Rank</th>\n",
       "      <th>NOC</th>\n",
       "      <th>Gold</th>\n",
       "      <th>Silver</th>\n",
       "      <th>Bronze</th>\n",
       "      <th>Total</th>\n",
       "      <th>Year</th>\n",
       "      <th>Season</th>\n",
       "    </tr>\n",
       "  </thead>\n",
       "  <tbody>\n",
       "    <tr>\n",
       "      <th>1</th>\n",
       "      <td>1</td>\n",
       "      <td>Russia (RUS)</td>\n",
       "      <td>11</td>\n",
       "      <td>8</td>\n",
       "      <td>4</td>\n",
       "      <td>23</td>\n",
       "      <td>1994</td>\n",
       "      <td>Winter</td>\n",
       "    </tr>\n",
       "    <tr>\n",
       "      <th>2</th>\n",
       "      <td>2</td>\n",
       "      <td>Norway (NOR)*</td>\n",
       "      <td>10</td>\n",
       "      <td>11</td>\n",
       "      <td>5</td>\n",
       "      <td>26</td>\n",
       "      <td>1994</td>\n",
       "      <td>Winter</td>\n",
       "    </tr>\n",
       "    <tr>\n",
       "      <th>3</th>\n",
       "      <td>3</td>\n",
       "      <td>Germany (GER)</td>\n",
       "      <td>9</td>\n",
       "      <td>7</td>\n",
       "      <td>8</td>\n",
       "      <td>24</td>\n",
       "      <td>1994</td>\n",
       "      <td>Winter</td>\n",
       "    </tr>\n",
       "    <tr>\n",
       "      <th>4</th>\n",
       "      <td>4</td>\n",
       "      <td>Italy (ITA)</td>\n",
       "      <td>7</td>\n",
       "      <td>5</td>\n",
       "      <td>8</td>\n",
       "      <td>20</td>\n",
       "      <td>1994</td>\n",
       "      <td>Winter</td>\n",
       "    </tr>\n",
       "    <tr>\n",
       "      <th>5</th>\n",
       "      <td>5</td>\n",
       "      <td>United States (USA)</td>\n",
       "      <td>6</td>\n",
       "      <td>5</td>\n",
       "      <td>2</td>\n",
       "      <td>13</td>\n",
       "      <td>1994</td>\n",
       "      <td>Winter</td>\n",
       "    </tr>\n",
       "  </tbody>\n",
       "</table>\n",
       "</div>"
      ],
      "text/plain": [
       "0 Rank                  NOC Gold Silver Bronze Total  Year  Season\n",
       "1    1         Russia (RUS)   11      8      4    23  1994  Winter\n",
       "2    2        Norway (NOR)*   10     11      5    26  1994  Winter\n",
       "3    3        Germany (GER)    9      7      8    24  1994  Winter\n",
       "4    4          Italy (ITA)    7      5      8    20  1994  Winter\n",
       "5    5  United States (USA)    6      5      2    13  1994  Winter"
      ]
     },
     "execution_count": 6,
     "metadata": {},
     "output_type": "execute_result"
    }
   ],
   "source": [
    "df_olympics=pd.concat([df_winter_1994, df_summer_1996, df_winter_1998, df_summer_2000, df_winter_2002, df_summer_2004, df_winter_2006, \n",
    "           df_summer_2008, df_winter_2010, df_summer_2012, df_winter_2014, df_summer_2016, df_winter_2018], join=\"outer\")\n",
    "df_olympics.head()"
   ]
  },
  {
   "cell_type": "code",
   "execution_count": 7,
   "metadata": {
    "collapsed": true
   },
   "outputs": [],
   "source": [
    "df_olympics['Country'] = df_olympics['NOC'].str.split('(').str[0]\n",
    "df_olympics['Country'] = df_olympics['Country'].str.strip()"
   ]
  },
  {
   "cell_type": "code",
   "execution_count": 8,
   "metadata": {
    "collapsed": true
   },
   "outputs": [],
   "source": [
    "url_gdp='https://en.wikipedia.org/wiki/List_of_countries_by_past_and_projected_GDP_(nominal)_per_capita'\n",
    "\n",
    "df_gdp=pd.read_html(url_gdp)\n",
    "\n",
    "df_gdp_90to99= df_gdp[4]\n",
    "new_header=df_gdp_90to99.iloc[0]\n",
    "df_gdp_90to99=df_gdp_90to99[1:]\n",
    "df_gdp_90to99.columns=new_header\n",
    "#df_gdp_90to99=pd.DataFrame.drop(['1990.0', '1991.0', '1992.0', '1993.0', '1995.0', '1997.0', '1999.0'])\n",
    "\n",
    "df_gdp_20to09= df_gdp[6]\n",
    "new_header=df_gdp_20to09.iloc[0]\n",
    "df_gdp_20to09=df_gdp_20to09[1:]\n",
    "df_gdp_20to09.columns=new_header\n",
    "\n",
    "df_gdp_10to19= df_gdp[8]\n",
    "new_header=df_gdp_10to19.iloc[0]\n",
    "df_gdp_10to19=df_gdp_10to19[1:]\n",
    "df_gdp_10to19.columns=new_header\n",
    "\n",
    "#Merge file across years\n",
    "df_gdp_90to09 = pd.merge(df_gdp_90to99, df_gdp_20to09, on=df_gdp_90to99.columns[0], how='outer')\n",
    "df_gdp_90to19 = pd.merge(df_gdp_90to09, df_gdp_10to19, on=df_gdp_90to09.columns[0], how='outer')\n",
    "df_gdp_90to19.to_csv(\"gdp_data.csv\")\n"
   ]
  },
  {
   "cell_type": "code",
   "execution_count": 9,
   "metadata": {},
   "outputs": [
    {
     "data": {
      "text/html": [
       "<div>\n",
       "<style>\n",
       "    .dataframe thead tr:only-child th {\n",
       "        text-align: right;\n",
       "    }\n",
       "\n",
       "    .dataframe thead th {\n",
       "        text-align: left;\n",
       "    }\n",
       "\n",
       "    .dataframe tbody tr th {\n",
       "        vertical-align: top;\n",
       "    }\n",
       "</style>\n",
       "<table border=\"1\" class=\"dataframe\">\n",
       "  <thead>\n",
       "    <tr style=\"text-align: right;\">\n",
       "      <th></th>\n",
       "      <th>Country</th>\n",
       "      <th>Year</th>\n",
       "      <th>GDP</th>\n",
       "    </tr>\n",
       "  </thead>\n",
       "  <tbody>\n",
       "    <tr>\n",
       "      <th>0</th>\n",
       "      <td>Afghanistan</td>\n",
       "      <td>1990</td>\n",
       "      <td>NaN</td>\n",
       "    </tr>\n",
       "    <tr>\n",
       "      <th>1</th>\n",
       "      <td>Albania</td>\n",
       "      <td>1990</td>\n",
       "      <td>672.0</td>\n",
       "    </tr>\n",
       "    <tr>\n",
       "      <th>2</th>\n",
       "      <td>Algeria</td>\n",
       "      <td>1990</td>\n",
       "      <td>2474.0</td>\n",
       "    </tr>\n",
       "    <tr>\n",
       "      <th>3</th>\n",
       "      <td>Angola</td>\n",
       "      <td>1990</td>\n",
       "      <td>886.0</td>\n",
       "    </tr>\n",
       "    <tr>\n",
       "      <th>4</th>\n",
       "      <td>Antigua and Barbuda</td>\n",
       "      <td>1990</td>\n",
       "      <td>7623.0</td>\n",
       "    </tr>\n",
       "  </tbody>\n",
       "</table>\n",
       "</div>"
      ],
      "text/plain": [
       "               Country  Year     GDP\n",
       "0          Afghanistan  1990     NaN\n",
       "1              Albania  1990   672.0\n",
       "2              Algeria  1990  2474.0\n",
       "3               Angola  1990   886.0\n",
       "4  Antigua and Barbuda  1990  7623.0"
      ]
     },
     "execution_count": 9,
     "metadata": {},
     "output_type": "execute_result"
    }
   ],
   "source": [
    "#Data eported to Ecel to use VBA for restructuring and attaching years and assign gdp by country for merging with olympics Results\n",
    "df_gdp = pd.read_csv('gdp_data_clean.csv')\n",
    "df_gdp['Country'] = df_gdp['Country'].str.strip()\n",
    "df_gdp.head()"
   ]
  },
  {
   "cell_type": "code",
<<<<<<< HEAD
   "execution_count": 10,
   "metadata": {
    "collapsed": true
   },
   "outputs": [],
   "source": [
    "df_olympics_gdp=pd.merge(df_olympics, df_gdp, on=['Country','Year'], how='outer')"
=======
   "execution_count": 24,
   "metadata": {},
   "outputs": [
    {
     "data": {
      "text/html": [
       "<div>\n",
       "<style>\n",
       "    .dataframe thead tr:only-child th {\n",
       "        text-align: right;\n",
       "    }\n",
       "\n",
       "    .dataframe thead th {\n",
       "        text-align: left;\n",
       "    }\n",
       "\n",
       "    .dataframe tbody tr th {\n",
       "        vertical-align: top;\n",
       "    }\n",
       "</style>\n",
       "<table border=\"1\" class=\"dataframe\">\n",
       "  <thead>\n",
       "    <tr style=\"text-align: right;\">\n",
       "      <th></th>\n",
       "      <th>Rank</th>\n",
       "      <th>NOC</th>\n",
       "      <th>Gold</th>\n",
       "      <th>Silver</th>\n",
       "      <th>Bronze</th>\n",
       "      <th>Total</th>\n",
       "      <th>Year</th>\n",
       "      <th>Season</th>\n",
       "      <th>Country</th>\n",
       "      <th>GDP</th>\n",
       "    </tr>\n",
       "  </thead>\n",
       "  <tbody>\n",
       "    <tr>\n",
       "      <th>0</th>\n",
       "      <td>1</td>\n",
       "      <td>Russia (RUS)</td>\n",
       "      <td>11</td>\n",
       "      <td>8</td>\n",
       "      <td>4</td>\n",
       "      <td>23</td>\n",
       "      <td>1994</td>\n",
       "      <td>Winter</td>\n",
       "      <td>Russia</td>\n",
       "      <td>2004.0</td>\n",
       "    </tr>\n",
       "    <tr>\n",
       "      <th>1</th>\n",
       "      <td>2</td>\n",
       "      <td>Norway (NOR)*</td>\n",
       "      <td>10</td>\n",
       "      <td>11</td>\n",
       "      <td>5</td>\n",
       "      <td>26</td>\n",
       "      <td>1994</td>\n",
       "      <td>Winter</td>\n",
       "      <td>Norway</td>\n",
       "      <td>29228.0</td>\n",
       "    </tr>\n",
       "    <tr>\n",
       "      <th>2</th>\n",
       "      <td>3</td>\n",
       "      <td>Germany (GER)</td>\n",
       "      <td>9</td>\n",
       "      <td>7</td>\n",
       "      <td>8</td>\n",
       "      <td>24</td>\n",
       "      <td>1994</td>\n",
       "      <td>Winter</td>\n",
       "      <td>Germany</td>\n",
       "      <td>27247.0</td>\n",
       "    </tr>\n",
       "    <tr>\n",
       "      <th>3</th>\n",
       "      <td>4</td>\n",
       "      <td>Italy (ITA)</td>\n",
       "      <td>7</td>\n",
       "      <td>5</td>\n",
       "      <td>8</td>\n",
       "      <td>20</td>\n",
       "      <td>1994</td>\n",
       "      <td>Winter</td>\n",
       "      <td>Italy</td>\n",
       "      <td>19186.0</td>\n",
       "    </tr>\n",
       "    <tr>\n",
       "      <th>4</th>\n",
       "      <td>5</td>\n",
       "      <td>United States (USA)</td>\n",
       "      <td>6</td>\n",
       "      <td>5</td>\n",
       "      <td>2</td>\n",
       "      <td>13</td>\n",
       "      <td>1994</td>\n",
       "      <td>Winter</td>\n",
       "      <td>United States</td>\n",
       "      <td>27756.0</td>\n",
       "    </tr>\n",
       "  </tbody>\n",
       "</table>\n",
       "</div>"
      ],
      "text/plain": [
       "  Rank                  NOC Gold Silver Bronze Total  Year  Season  \\\n",
       "0    1         Russia (RUS)   11      8      4    23  1994  Winter   \n",
       "1    2        Norway (NOR)*   10     11      5    26  1994  Winter   \n",
       "2    3        Germany (GER)    9      7      8    24  1994  Winter   \n",
       "3    4          Italy (ITA)    7      5      8    20  1994  Winter   \n",
       "4    5  United States (USA)    6      5      2    13  1994  Winter   \n",
       "\n",
       "         Country      GDP  \n",
       "0         Russia   2004.0  \n",
       "1         Norway  29228.0  \n",
       "2        Germany  27247.0  \n",
       "3          Italy  19186.0  \n",
       "4  United States  27756.0  "
      ]
     },
     "execution_count": 24,
     "metadata": {},
     "output_type": "execute_result"
    }
   ],
   "source": [
    "df_olympics_gdp=pd.merge(df_olympics, df_gdp, on=['Country','Year'], how='inner')\n",
    "df_olympics_gdp.head()"
>>>>>>> Safaa_branch
   ]
  },
  {
   "cell_type": "code",
<<<<<<< HEAD
   "execution_count": 11,
   "metadata": {
    "collapsed": true
   },
=======
   "execution_count": 26,
   "metadata": {},
>>>>>>> Safaa_branch
   "outputs": [],
   "source": [
    "df_olympics_gdp.to_csv(\"olympics_gdp_data.csv\")"
   ]
  },
  {
   "cell_type": "code",
   "execution_count": 11,
   "metadata": {
    "collapsed": true
   },
   "outputs": [],
   "source": [
    "#df_gdp = pd.read_excel(open('Data_Extract_From_Poverty_and_Equity.xlsx','rb'), sheetname='Data')\n",
    "#df_gdp.head(10)"
   ]
  },
  {
   "cell_type": "code",
   "execution_count": 13,
   "metadata": {},
   "outputs": [
    {
     "data": {
      "text/html": [
       "<div>\n",
       "<style>\n",
       "    .dataframe thead tr:only-child th {\n",
       "        text-align: right;\n",
       "    }\n",
       "\n",
       "    .dataframe thead th {\n",
       "        text-align: left;\n",
       "    }\n",
       "\n",
       "    .dataframe tbody tr th {\n",
       "        vertical-align: top;\n",
       "    }\n",
       "</style>\n",
       "<table border=\"1\" class=\"dataframe\">\n",
       "  <thead>\n",
       "    <tr style=\"text-align: right;\">\n",
       "      <th></th>\n",
       "      <th>City</th>\n",
       "      <th>Country</th>\n",
       "      <th>Continent</th>\n",
       "      <th>Year</th>\n",
       "      <th>Latitude</th>\n",
       "      <th>Longitude</th>\n",
       "    </tr>\n",
       "  </thead>\n",
       "  <tbody>\n",
       "    <tr>\n",
       "      <th>0</th>\n",
       "      <td>Lillehammer</td>\n",
       "      <td>Norway</td>\n",
       "      <td>Europe</td>\n",
       "      <td>1994</td>\n",
       "      <td>61.115271</td>\n",
       "      <td>10.466231</td>\n",
       "    </tr>\n",
       "    <tr>\n",
       "      <th>1</th>\n",
       "      <td>Atlanta</td>\n",
       "      <td>United States</td>\n",
       "      <td>North America</td>\n",
       "      <td>1996</td>\n",
       "      <td>33.748995</td>\n",
       "      <td>-84.387982</td>\n",
       "    </tr>\n",
       "    <tr>\n",
       "      <th>2</th>\n",
       "      <td>Nagano</td>\n",
       "      <td>Japan</td>\n",
       "      <td>Asia</td>\n",
       "      <td>1998</td>\n",
       "      <td>36.648583</td>\n",
       "      <td>138.194771</td>\n",
       "    </tr>\n",
       "    <tr>\n",
       "      <th>3</th>\n",
       "      <td>Sydney</td>\n",
       "      <td>Australia</td>\n",
       "      <td>Oceania</td>\n",
       "      <td>2000</td>\n",
       "      <td>-33.868820</td>\n",
       "      <td>151.209296</td>\n",
       "    </tr>\n",
       "    <tr>\n",
       "      <th>4</th>\n",
       "      <td>Salt Lake City</td>\n",
       "      <td>United States</td>\n",
       "      <td>North America</td>\n",
       "      <td>2002</td>\n",
       "      <td>40.760779</td>\n",
       "      <td>-111.891047</td>\n",
       "    </tr>\n",
       "  </tbody>\n",
       "</table>\n",
       "</div>"
      ],
      "text/plain": [
       "             City        Country      Continent  Year   Latitude   Longitude\n",
       "0     Lillehammer         Norway         Europe  1994  61.115271   10.466231\n",
       "1         Atlanta  United States  North America  1996  33.748995  -84.387982\n",
       "2          Nagano          Japan           Asia  1998  36.648583  138.194771\n",
       "3          Sydney      Australia        Oceania  2000 -33.868820  151.209296\n",
       "4  Salt Lake City  United States  North America  2002  40.760779 -111.891047"
      ]
     },
     "execution_count": 13,
     "metadata": {},
     "output_type": "execute_result"
    }
   ],
   "source": [
    "df_sites = pd.read_csv('olympics_sites.csv')\n",
    "df_sites.head()"
   ]
<<<<<<< HEAD
=======
  },
  {
   "cell_type": "code",
   "execution_count": 22,
   "metadata": {},
   "outputs": [],
   "source": [
    "#df_olympics_final=pd.merge(df_olympics_gdp, df_sites, on=['Country'], how='outer')\n",
    "#df_olympics_final.head()"
   ]
  },
  {
   "cell_type": "code",
   "execution_count": 18,
   "metadata": {
    "collapsed": true
   },
   "outputs": [],
   "source": [
    "df_olympics_final.to_csv(\"Olympics_final.csv\")"
   ]
  },
  {
   "cell_type": "code",
   "execution_count": 39,
   "metadata": {},
   "outputs": [
    {
     "data": {
      "text/plain": [
       "<matplotlib.figure.Figure at 0x393bd7d860>"
      ]
     },
     "execution_count": 39,
     "metadata": {},
     "output_type": "execute_result"
    }
   ],
   "source": [
    "df_olympics_gdp.boxplot()\n",
    "plt.figure()"
   ]
  },
  {
   "cell_type": "code",
   "execution_count": null,
   "metadata": {},
   "outputs": [],
   "source": []
>>>>>>> Safaa_branch
  },
  {
   "cell_type": "code",
   "execution_count": null,
   "metadata": {
    "collapsed": true
   },
   "outputs": [],
   "source": [
    "df_olympics_final=pd.merge(df_olympics_gdp, df_sites, on=['Country','Year'], how='outer')\n",
    "df_olympics_gdp.to_csv(\"Olympics_gdp_data.csv\")"
   ]
  }
 ],
 "metadata": {
  "kernelspec": {
   "display_name": "Python [conda root]",
   "language": "python",
   "name": "conda-root-py"
  },
  "language_info": {
   "codemirror_mode": {
    "name": "ipython",
    "version": 3
   },
   "file_extension": ".py",
   "mimetype": "text/x-python",
   "name": "python",
   "nbconvert_exporter": "python",
   "pygments_lexer": "ipython3",
   "version": "3.6.3"
  }
 },
 "nbformat": 4,
 "nbformat_minor": 2
}
